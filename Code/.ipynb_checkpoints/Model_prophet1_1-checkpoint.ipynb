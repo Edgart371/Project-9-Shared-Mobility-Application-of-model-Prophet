{
 "cells": [
  {
   "cell_type": "code",
   "execution_count": null,
   "id": "dfdd98ce",
   "metadata": {},
   "outputs": [],
   "source": [
    "import pandas as pd\n",
    "import numpy as np\n",
    "import seaborn as sns\n",
    "import re\n",
    "import utils\n",
    "from sklearn.preprocessing import LabelEncoder\n",
    "\n",
    "import warnings\n",
    "warnings.filterwarnings(\"ignore\")\n",
    "\n",
    "import logging\n",
    "from prophet import Prophet\n",
    "from datetime import datetime, time, timedelta\n",
    "from multiprocessing import cpu_count, Pool\n",
    "import pycountry\n"
   ]
  },
  {
   "cell_type": "code",
   "execution_count": null,
   "id": "bb72d64a",
   "metadata": {},
   "outputs": [],
   "source": [
    "data = pd.read_csv(r'/Users/edgartome_1/IronHack/IronProjects/Final_project/Data clean/clean_data_extrat2.csv')\n",
    "data.head()"
   ]
  },
  {
   "cell_type": "code",
   "execution_count": null,
   "id": "a11a4ae4",
   "metadata": {},
   "outputs": [],
   "source": [
    "data.columns"
   ]
  },
  {
   "cell_type": "code",
   "execution_count": null,
   "id": "ab156593",
   "metadata": {},
   "outputs": [],
   "source": [
    "#How many citys\n",
    "print('Name of the citys', data.city.unique())"
   ]
  },
  {
   "cell_type": "code",
   "execution_count": null,
   "id": "88052e4a",
   "metadata": {},
   "outputs": [],
   "source": [
    "#How many types sharing\n",
    "\n",
    "print('Name of types sharing', data.type.unique())\n",
    "print('Number of types sharing', data.type.nunique())"
   ]
  },
  {
   "cell_type": "code",
   "execution_count": null,
   "id": "535481f6",
   "metadata": {},
   "outputs": [],
   "source": [
    "#How many types of providers\n",
    "\n",
    "print('Name of the provider', data.provider.unique())\n",
    "print('Number of provider', data.provider.nunique())"
   ]
  },
  {
   "cell_type": "code",
   "execution_count": null,
   "id": "7bb85d35",
   "metadata": {},
   "outputs": [],
   "source": [
    "def city_split(data,column,city):\n",
    "    #column is where the name of your city column goes, wasnt sure about the spelling, and city you specify whcih city\n",
    "    filtercity = data[data[column]==city]\n",
    "    return filtercity"
   ]
  },
  {
   "cell_type": "code",
   "execution_count": null,
   "id": "270624ec",
   "metadata": {},
   "outputs": [],
   "source": [
    "list_citys = data.city.unique()\n",
    "list_citys"
   ]
  },
  {
   "cell_type": "code",
   "execution_count": null,
   "id": "c8fe2380",
   "metadata": {},
   "outputs": [],
   "source": [
    "#Creating diferent data frames for city\n",
    "c={}\n",
    "da=pd.DataFrame()\n",
    "for i in list_citys:\n",
    "    da = city_split(data,'city', i)\n",
    "    c[i]=da"
   ]
  },
  {
   "cell_type": "code",
   "execution_count": null,
   "id": "7e6ab8be",
   "metadata": {},
   "outputs": [],
   "source": [
    "aarhus_data = c['aarhus']\n",
    "amsterdam_data = c['amsterdam']\n",
    "antwerp_data = c ['antwerp']\n",
    "barcelona_data = c['barcelona']\n",
    "bari_data = c['bari']\n",
    "berlin_data = c['berlin']\n",
    "bilbao_data = c['bilbao']\n",
    "bonn_data = c['bonn']\n",
    "bordeaux_data = c['bordeaux']\n",
    "bratislava_data = c['bratislava']\n",
    "bremen_data = c['bremen']\n",
    "bristol_data = c['bristol']\n",
    "bruxelles_data = c['bruxelles']\n",
    "budapest_data = c['budapest']\n",
    "delft_data = c['delft']\n",
    "dortmund_data = c['dortmund']\n",
    "dublin_data = c['dublin']\n",
    "dusseldorf_data = c['dusseldorf']\n",
    "eindhoven_data = c['eindhoven']\n",
    "enschede_data = c['enschede']\n",
    "essen_data = c['essen']\n",
    "frankfurt_data = c['frankfurt']\n",
    "gdansk_data = c['gdansk']\n",
    "geneva_data = c['geneva']\n",
    "gothenburg_data = c['gothenburg']\n",
    "haarlem_data = c['haarlem']\n",
    "hamburg_data = c['hamburg']\n",
    "hanover_data = c['hanover']\n",
    "heilbronn_data = c['heilbronn']\n",
    "helsingborg_data = c['helsingborg']\n",
    "helsinki_data = c['helsinki']\n",
    "istanbul_data = c['istanbul']\n",
    "karlsruhe_data = c['karlsruhe']\n",
    "koln_data = c['koln']\n",
    "leipzig_data = c['leipzig']\n",
    "lisbon_data = c['lisbon']\n",
    "ljubljana_data = c['ljubljana']\n",
    "london_data = c['london']\n",
    "lubeck_data = c['lubeck']\n",
    "lund_data = c['lund']\n",
    "lyon_data = c['lyon']\n",
    "madrid_data = c['madrid']\n",
    "malmo_data = c['malmo']\n",
    "milano_data = c['milano']\n",
    "modena_data = c['modena']\n",
    "munchen_data = c['munchen']\n",
    "munster_data = c['munster']\n",
    "nice_data = c['nice']\n",
    "norrkoping_data = c['norrkoping']\n",
    "nuremberg_data = c['nuremberg']\n",
    "odense_data = c['odense']\n",
    "orebro_data = c['orebro']\n",
    "oslo_data = c['oslo']\n",
    "paris_data = c['paris']\n",
    "pisa_data = c['pisa']\n",
    "potsdam_data = c['potsdam']\n",
    "prague_data = c['prague']\n",
    "reggio_emilia_data = c['reggio_emilia']\n",
    "riga_data = c['riga']\n",
    "rome_data = c['rome']\n",
    "rotterdam_data = c['rotterdam']\n",
    "seville_data = c['seville']\n",
    "stockholm_data = c['stockholm']\n",
    "tallinn_data = c['tallinn']\n",
    "the_hague_data = c['the_hague']\n",
    "tilburg_data = c['tilburg']\n",
    "torino_data = c['torino']\n",
    "trondheim_data = c['trondheim']\n",
    "vilnius_data = c['vilnius']\n",
    "warsaw_data = c['warsaw']\n",
    "washington_data = c['washington']\n",
    "wien_data = c['wien']\n",
    "winterthur_data = c['winterthur']\n",
    "zurich_data = c['zurich']\n",
    "zwolle_data = c['zwolle']"
   ]
  },
  {
   "cell_type": "code",
   "execution_count": null,
   "id": "7e1cae71",
   "metadata": {},
   "outputs": [],
   "source": [
    "#len(pycountry.countries)"
   ]
  },
  {
   "cell_type": "code",
   "execution_count": null,
   "id": "cdd9e9b8",
   "metadata": {},
   "outputs": [],
   "source": [
    "#list(pycountry.countries)[2]"
   ]
  },
  {
   "cell_type": "code",
   "execution_count": null,
   "id": "1d0d5bf6",
   "metadata": {},
   "outputs": [],
   "source": [
    "# Data frame separated by city\n",
    "zwolle_data"
   ]
  },
  {
   "cell_type": "code",
   "execution_count": null,
   "id": "53449554",
   "metadata": {},
   "outputs": [],
   "source": [
    "#First try of model for aarhus_data\n",
    "\n",
    "#aarhus_data = aarhus_data.drop(['Unnamed: 0', 'city', 'type', 'provider', 'nb_trip', 'rain', 'snow', 'main', 'time_lost', 'before_lag'], axis=1)\n",
    "#aarhus_data.rename(columns = {'ts':'ds', 'nb_vehic_avail':'y'}, inplace = True)\n",
    "aarhus_data"
   ]
  },
  {
   "cell_type": "code",
   "execution_count": null,
   "id": "28410719",
   "metadata": {},
   "outputs": [],
   "source": [
    "def time_n_zone(data):\n",
    "    data['ds'] = data['ds'].astype(str)\n",
    "    ogdata = list(data['ds'])\n",
    "    newtime = []\n",
    "    for time in ogdata:\n",
    "        time = time[:-6]\n",
    "        newtime.append(time)\n",
    "\n",
    "    data['ds'] = newtime\n",
    "\n",
    "    data['ds'] = data['ds'].apply(pd.to_datetime)"
   ]
  },
  {
   "cell_type": "code",
   "execution_count": null,
   "id": "79ead39f",
   "metadata": {},
   "outputs": [],
   "source": [
    "#aarhus_data[14:38]\n",
    "#aarhus_data[:23]"
   ]
  },
  {
   "cell_type": "code",
   "execution_count": null,
   "id": "2f7d7ca3",
   "metadata": {},
   "outputs": [],
   "source": [
    "#How many days\n",
    "#print('Days', aarhus_data.ds.unique())\n",
    "\n",
    "#print('Number of days', aarhus_data.ds.nunique())"
   ]
  },
  {
   "cell_type": "code",
   "execution_count": null,
   "id": "d89fde19",
   "metadata": {},
   "outputs": [],
   "source": [
    "#aarhus_data['ds'] = pd.to_datetime(aarhus_data['ds'], format='%Y/%m/%d %H:%M:%S')"
   ]
  },
  {
   "cell_type": "code",
   "execution_count": null,
   "id": "6a4c5c94",
   "metadata": {},
   "outputs": [],
   "source": [
    "#aarhus_data = aarhus_data.drop(['Unnamed: 0'], axis=1)\n",
    "#aarhus_data.rename(columns = {'ts':'ds', 'nb_vehic_avail':'y'}, inplace = True)\n",
    "#aarhus_data"
   ]
  },
  {
   "cell_type": "code",
   "execution_count": null,
   "id": "86c6e4d6",
   "metadata": {},
   "outputs": [],
   "source": [
    "def label_encoding(data, coolumns):\n",
    "    from sklearn import preprocessing\n",
    "    le = preprocessing.LabelEncoder()\n",
    "    for x in columns:\n",
    "        le.fit(data[x])\n",
    "        data[x] = le.transform(data[x])"
   ]
  },
  {
   "cell_type": "code",
   "execution_count": null,
   "id": "4e1817d2",
   "metadata": {},
   "outputs": [],
   "source": [
    "def subsetDataFrame(city, type_s, provider_num):\n",
    "    DataFrame = data[(data['city'] == city) & (data['type'] == type_s) & (data['provider'] == provider_num)]\n",
    "    le = LabelEncoder()\n",
    "    DataFrame['main'] = le.fit_transform(DataFrame.main.values)\n",
    "    del DataFrame['Unnamed: 0']\n",
    "    return DataFrame"
   ]
  },
  {
   "cell_type": "code",
   "execution_count": null,
   "id": "4301748c",
   "metadata": {},
   "outputs": [],
   "source": [
    "aarhus_CAR_32 = subsetDataFrame('aarhus', 'CAR', 32)\n",
    "aarhus_CAR_32.rename(columns = {'ts':'ds', 'nb_vehic_avail':'y'}, inplace = True)\n",
    "time_n_zone(aarhus_CAR_32)\n",
    "aarhus_CAR_32"
   ]
  },
  {
   "cell_type": "code",
   "execution_count": null,
   "id": "aacb559f",
   "metadata": {},
   "outputs": [],
   "source": [
    "#le = LabelEncoder()\n",
    "#aarhus_CAR_32['main'] = le.fit_transform(aarhus_CAR_32.main.values)\n",
    "#aarhus_CAR_32"
   ]
  },
  {
   "cell_type": "code",
   "execution_count": null,
   "id": "426a2b08",
   "metadata": {},
   "outputs": [],
   "source": [
    "#How many types of providers\n",
    "\n",
    "print('Name of the provider', aarhus_CAR_32.provider.unique())\n",
    "print('Number of provider', aarhus_CAR_32.provider.nunique())"
   ]
  },
  {
   "cell_type": "code",
   "execution_count": null,
   "id": "ef061030",
   "metadata": {},
   "outputs": [],
   "source": [
    "aarhus_CAR_32 = aarhus_CAR_32.drop(['city', 'type', 'provider'], axis=1)\n",
    "aarhus_CAR_32"
   ]
  },
  {
   "cell_type": "code",
   "execution_count": null,
   "id": "b25fc294",
   "metadata": {},
   "outputs": [],
   "source": [
    "#Aplly model\n",
    "def fit_model(DATA, COUNTRY):\n",
    "    m = Prophet(seasonality_mode='multiplicative', yearly_seasonality = True, changepoint_range=0.95)\n",
    "\n",
    "    # GET COUNTRY CODE AND ADD PROPHET HOLIDAYS\n",
    "\n",
    "    #COUNTRY = 'DENMARK'\n",
    "    country_info = pycountry.countries.get(name=COUNTRY.replace(\"_\",\" \")) or pycountry.countries.get(official_name=COUNTRY.replace(\"_\",\" \")) or pycountry.countries.get(alpha_3=COUNTRY)\n",
    "    m.add_country_holidays(country_name=country_info.alpha_2)\n",
    "\n",
    "    # ADD REGRESSORS\n",
    "\n",
    "    for reg in [e for e in list(DATA.columns) if e not in ('ds','y')]:\n",
    "        m.add_regressor(reg)\n",
    "\n",
    "    #m.add_regressor('nb_trip', prior_scale=0.5, mode='multiplicative')\n",
    "    #m.add_regressor('rain', prior_scale=0.5, mode='multiplicative')\n",
    "    #m.add_regressor('snow', prior_scale=0.5, mode='multiplicative')\n",
    "    #m.add_regressor('main', prior_scale=0.5, mode='multiplicative')\n",
    "    #m.add_regressor('time_lost', prior_scale=0.5, mode='multiplicative')\n",
    "    #m.add_regressor('before_lag', prior_scale=0.5, mode='multiplicative')\n",
    "    #m.add_regressor('nb_vehic_avail', prior_scale=0.5, mode='multiplicative')\n",
    "\n",
    "\n",
    "    # KEEP ONLY PREVIOUS DAY AND - TO FIT\n",
    "    #dt = datetime.combine(datetime.today() - timedelta(days = LAG_DAY_MODELED), time.min)\n",
    "    # dont fit with modeled days\n",
    "    #to_fit = aarhus_data[(~aarhus_data.ds.dt.date.isin([i[0] for i in modeled_days])) & (aarhus_data.ds < dt)] \n",
    "\n",
    "    m.fit(DATA)\n",
    "    return m, DATA"
   ]
  },
  {
   "cell_type": "code",
   "execution_count": null,
   "id": "c4a55694",
   "metadata": {},
   "outputs": [],
   "source": [
    "m = fit_model(aarhus_CAR_32, 'DENMARK')"
   ]
  },
  {
   "cell_type": "code",
   "execution_count": null,
   "id": "cd0e98c2",
   "metadata": {},
   "outputs": [],
   "source": [
    "future = m.make_future_dataframe(periods=30, freq='H', include_history=False)\n",
    "future.tail()"
   ]
  },
  {
   "cell_type": "code",
   "execution_count": null,
   "id": "22c29042",
   "metadata": {},
   "outputs": [],
   "source": [
    "forecast = m.predict(future)\n",
    "forecast[['ds', 'yhat', 'yhat_lower', 'yhat_upper']].tail()"
   ]
  },
  {
   "cell_type": "code",
   "execution_count": null,
   "id": "421ec5fa",
   "metadata": {},
   "outputs": [],
   "source": [
    "fig1 = m.plot(forecast)"
   ]
  },
  {
   "cell_type": "code",
   "execution_count": null,
   "id": "964b7d6f",
   "metadata": {},
   "outputs": [],
   "source": [
    "from prophet.plot import plot_plotly, plot_components_plotly\n",
    "\n",
    "plot_plotly(m, forecast)"
   ]
  },
  {
   "cell_type": "code",
   "execution_count": null,
   "id": "d20cf945",
   "metadata": {},
   "outputs": [],
   "source": [
    "plot_components_plotly(m, forecast)"
   ]
  },
  {
   "cell_type": "code",
   "execution_count": null,
   "id": "3e3be633",
   "metadata": {},
   "outputs": [],
   "source": []
  }
 ],
 "metadata": {
  "kernelspec": {
   "display_name": "Python 3 (ipykernel)",
   "language": "python",
   "name": "python3"
  },
  "language_info": {
   "codemirror_mode": {
    "name": "ipython",
    "version": 3
   },
   "file_extension": ".py",
   "mimetype": "text/x-python",
   "name": "python",
   "nbconvert_exporter": "python",
   "pygments_lexer": "ipython3",
   "version": "3.9.7"
  }
 },
 "nbformat": 4,
 "nbformat_minor": 5
}
